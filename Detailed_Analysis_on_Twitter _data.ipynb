{
 "cells": [
  {
   "cell_type": "markdown",
   "metadata": {},
   "source": [
    "# Twitter Sentiment Analysis\n",
    "\n",
    "- Here we analyse the sentiment by define intervel as per user.\n",
    "- we can calculate the very small detail of any topic by defining its interval\n",
    "- Useful for sales analysis, product reviews, demand of things as per regions, etc..\n",
    "- Need Twitter development account\n"
   ]
  },
  {
   "cell_type": "markdown",
   "metadata": {},
   "source": [
    "## Importing the Library"
   ]
  },
  {
   "cell_type": "code",
   "execution_count": 3,
   "metadata": {},
   "outputs": [],
   "source": [
    "import pandas as pd\n",
    "import tweepy\n",
    "import matplotlib.pyplot as plt\n",
    "from textblob import TextBlob\n",
    "import sys, csv, re"
   ]
  },
  {
   "cell_type": "markdown",
   "metadata": {},
   "source": [
    "### Defining the class and preprocess the Tweet for Analysis"
   ]
  },
  {
   "cell_type": "code",
   "execution_count": 10,
   "metadata": {},
   "outputs": [],
   "source": [
    "class SentimentAnalysis:\n",
    "\n",
    "    def __init__(self):\n",
    "        self.tweets = []\n",
    "        self.tweetText = []\n",
    "\n",
    "    def DownloadData(self):\n",
    "        # authenticating\n",
    "        consumerKey = 'Enter Here'\n",
    "        consumerSecret = 'Enter Here'\n",
    "        accessToken = 'Enter Here'\n",
    "        accessTokenSecret = 'Enter Here'\n",
    "        auth = tweepy.OAuthHandler(consumerKey, consumerSecret)\n",
    "        auth.set_access_token(accessToken, accessTokenSecret)\n",
    "        api = tweepy.API(auth)\n",
    "\n",
    "        # input for term to be searched and how many tweets to search\n",
    "        searchTerm = input(\"Enter Keyword/Tag to search about: \")\n",
    "        NoOfTerms = int(input(\"Enter how many tweets to search: \"))\n",
    "\n",
    "        # searching for tweets\n",
    "        self.tweets = tweepy.Cursor(api.search, q=searchTerm, lang = \"en\").items(NoOfTerms)\n",
    "\n",
    "        # Open/create a file to append data to\n",
    "        csvFile = open('result.csv', 'a')\n",
    "\n",
    "        # Use csv writer\n",
    "        csvWriter = csv.writer(csvFile)\n",
    "\n",
    "\n",
    "        # creating some variables to store info\n",
    "        polarity = 0\n",
    "        positive = 0\n",
    "        week_positive = 0\n",
    "        strong_positive = 0\n",
    "        negative = 0\n",
    "        wnegative = 0\n",
    "        snegative = 0\n",
    "        neutral = 0\n",
    "\n",
    "\n",
    "        # iterating through tweets fetched\n",
    "        for tweet in self.tweets:\n",
    "            #Append to temp so that we can store in csv later. I use encode UTF-8\n",
    "            self.tweetText.append(self.cleanTweet(tweet.text).encode('utf-8'))\n",
    "             #print tweet's text\n",
    "            analysis = TextBlob(tweet.text)\n",
    "            # print(analysis.sentiment)  # print tweet's polarity\n",
    "            polarity += analysis.sentiment.polarity  # adding up polarities to find the average later\n",
    "            \n",
    "            #ploarity lie between -1 and 1\n",
    "            if (analysis.sentiment.polarity == 0):  # adding reaction of how people are reacting to find average later\n",
    "                neutral += 1\n",
    "            elif (analysis.sentiment.polarity > 0 and analysis.sentiment.polarity <= 0.3):\n",
    "                week_positive += 1\n",
    "            elif (analysis.sentiment.polarity > 0.3 and analysis.sentiment.polarity <= 0.6):\n",
    "                positive += 1\n",
    "            elif (analysis.sentiment.polarity > 0.6 and analysis.sentiment.polarity <= 1):\n",
    "                strong_positive += 1\n",
    "            elif (analysis.sentiment.polarity > -0.3 and analysis.sentiment.polarity <= 0):\n",
    "                wnegative += 1\n",
    "            elif (analysis.sentiment.polarity > -0.6 and analysis.sentiment.polarity <= -0.3):\n",
    "                negative += 1\n",
    "            elif (analysis.sentiment.polarity > -1 and analysis.sentiment.polarity <= -0.6):\n",
    "                snegative += 1\n",
    "            #we can also break the interval as per precision and requirement\n",
    "\n",
    "        # Write to csv and close csv file\n",
    "        csvWriter.writerow(self.tweetText)\n",
    "        csvFile.close()\n",
    "\n",
    "        # finding average of how people are reacting\n",
    "        positive = self.percentage(positive, NoOfTerms)\n",
    "        week_positive = self.percentage(week_positive, NoOfTerms)\n",
    "        strong_positive = self.percentage(strong_positive, NoOfTerms)\n",
    "        negative = self.percentage(negative, NoOfTerms)\n",
    "        wnegative = self.percentage(wnegative, NoOfTerms)\n",
    "        snegative = self.percentage(snegative, NoOfTerms)\n",
    "        neutral = self.percentage(neutral, NoOfTerms)\n",
    "\n",
    "        # finding average reaction\n",
    "        polarity = polarity / NoOfTerms\n",
    "\n",
    "        # printing out data\n",
    "        print(\"How people are reacting on \" + searchTerm + \" by analyzing \" + str(NoOfTerms) + \" tweets.\")\n",
    "        print()\n",
    "        print(\"General Report: \")\n",
    "\n",
    "        if (polarity == 0):\n",
    "            print(\"Neutral\")\n",
    "        elif (polarity > 0 and polarity <= 0.3):\n",
    "            print(\"Weakly Positive\")\n",
    "        elif (polarity > 0.3 and polarity <= 0.6):\n",
    "            print(\"Positive\")\n",
    "        elif (polarity > 0.6 and polarity <= 1):\n",
    "            print(\"Strongly Positive\")\n",
    "        elif (polarity > -0.3 and polarity <= 0):\n",
    "            print(\"Weakly Negative\")\n",
    "        elif (polarity > -0.6 and polarity <= -0.3):\n",
    "            print(\"Negative\")\n",
    "        elif (polarity > -1 and polarity <= -0.6):\n",
    "            print(\"Strongly Negative\")\n",
    "\n",
    "        print()\n",
    "        print(\"Detailed Report: \")\n",
    "        print(str(positive) + \"% people thought it was positive\")\n",
    "        print(str(week_positive) + \"% people thought it was weakly positive\")\n",
    "        print(str(strong_positive) + \"% people thought it was strongly positive\")\n",
    "        print(str(negative) + \"% people thought it was negative\")\n",
    "        print(str(wnegative) + \"% people thought it was weakly negative\")\n",
    "        print(str(snegative) + \"% people thought it was strongly negative\")\n",
    "        print(str(neutral) + \"% people thought it was neutral\")\n",
    "\n",
    "        self.plotPieChart(positive, week_positive, strong_positive, negative, wnegative, snegative, neutral, searchTerm, NoOfTerms)\n",
    "    \n",
    "    #clean the Tweet removing the link, special characters, etc..\n",
    "    def cleanTweet(self, tweet):\n",
    "        return ' '.join(re.sub(\"(@[A-Za-z0-9]+)|([^0-9A-Za-z \\t])|(\\w +:\\ / \\ / \\S +)\", \" \", tweet).split())\n",
    "    \n",
    "    # calculate the percentage\n",
    "    def percentage(self, part, whole):\n",
    "        temp = 100 * float(part) / float(whole)\n",
    "        return format(temp, '.2f')\n",
    "    \n",
    "    #Analyse the tweet by pie chart\n",
    "    def plotPieChart(self, positive, week_positive, strong_positive, negative, wnegative, snegative, neutral, searchTerm, noOfSearchTerms):\n",
    "        labels = ['Positive [' + str(positive) + '%]', 'Weakly Positive [' + str(week_positive) + '%]',\n",
    "                  'Strongly Positive [' + str(strong_positive) + '%]', 'Neutral [' + str(neutral) + '%]',\n",
    "                  'Negative [' + str(negative) + '%]', 'Weakly Negative [' + str(wnegative) + '%]', \n",
    "                  'Strongly Negative [' + str(snegative) + '%]']\n",
    "        sizes = [positive, week_positive, strong_positive, neutral, negative, wnegative, snegative]\n",
    "        colors = ['yellowgreen','lightgreen','darkgreen', 'gold', 'red','lightsalmon','darkred']\n",
    "        patches, texts = plt.pie(sizes, colors=colors, startangle=90)\n",
    "        plt.legend(patches, labels, loc=\"best\")\n",
    "        plt.title('How people are reacting on ' + searchTerm + ' by analyzing ' + str(noOfSearchTerms) + ' Tweets.')\n",
    "        plt.axis('equal')\n",
    "        plt.tight_layout()\n",
    "        plt.show()"
   ]
  },
  {
   "cell_type": "markdown",
   "metadata": {},
   "source": [
    "### Creating the object and calling the function "
   ]
  },
  {
   "cell_type": "code",
   "execution_count": 12,
   "metadata": {},
   "outputs": [
    {
     "name": "stdout",
     "output_type": "stream",
     "text": [
      "Enter Keyword/Tag to search about: Bitcoin\n",
      "Enter how many tweets to search: 1000\n",
      "How people are reacting on Bitcoin by analyzing 1000 tweets.\n",
      "\n",
      "General Report: \n",
      "Weakly Positive\n",
      "\n",
      "Detailed Report: \n",
      "15.40% people thought it was positive\n",
      "19.60% people thought it was weakly positive\n",
      "4.40% people thought it was strongly positive\n",
      "2.30% people thought it was negative\n",
      "9.30% people thought it was weakly negative\n",
      "0.90% people thought it was strongly negative\n",
      "48.00% people thought it was neutral\n"
     ]
    },
    {
     "data": {
      "image/png": "[encoded data removed]",
      "text/plain": [
       "<Figure size 432x288 with 1 Axes>"
      ]
     },
     "metadata": {},
     "output_type": "display_data"
    }
   ],
   "source": [
    "if __name__ == \"__main__\":\n",
    "    sentiment = SentimentAnalysis()\n",
    "    sentiment.DownloadData()"
   ]
  },
  {
   "cell_type": "markdown",
   "metadata": {},
   "source": [
    "### Pie chart help to view the people reaction in tweet very well"
   ]
  },
  {
   "cell_type": "markdown",
   "metadata": {},
   "source": [
    "### Sentiment and polarity lie between -1 and 1."
   ]
  }
 ],
 "metadata": {
  "kernelspec": {
   "display_name": "Python 3",
   "language": "python",
   "name": "python3"
  },
  "language_info": {
   "codemirror_mode": {
    "name": "ipython",
    "version": 3
   },
   "file_extension": ".py",
   "mimetype": "text/x-python",
   "name": "python",
   "nbconvert_exporter": "python",
   "pygments_lexer": "ipython3",
   "version": "3.6.5"
  }
 },
 "nbformat": 4,
 "nbformat_minor": 2
}
